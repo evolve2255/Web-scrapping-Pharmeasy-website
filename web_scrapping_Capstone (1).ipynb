{
 "cells": [
  {
   "cell_type": "markdown",
   "id": "75928751",
   "metadata": {},
   "source": [
    "# Web Scrapping : Pharmeasy Website"
   ]
  },
  {
   "cell_type": "markdown",
   "id": "6452f2e8",
   "metadata": {},
   "source": [
    "## Importing Required Libraries"
   ]
  },
  {
   "cell_type": "code",
   "execution_count": 2,
   "id": "59fef69e",
   "metadata": {},
   "outputs": [],
   "source": [
    "\n",
    "from selenium import webdriver\n",
    "import time\n",
    "from selenium.webdriver.common.keys import Keys\n",
    "import pandas as pd\n",
    "import requests\n",
    "from bs4 import BeautifulSoup as bs\n",
    "import re\n",
    "import warnings\n",
    "warnings.filterwarnings(\"ignore\")\n"
   ]
  },
  {
   "cell_type": "markdown",
   "id": "89a9e3d4",
   "metadata": {},
   "source": [
    "## Collectiing Data "
   ]
  },
  {
   "cell_type": "code",
   "execution_count": 3,
   "id": "260c1dd7",
   "metadata": {},
   "outputs": [
    {
     "name": "stdout",
     "output_type": "stream",
     "text": [
      "100\n",
      "100\n",
      "100\n",
      "100\n",
      "100\n",
      "100\n",
      "100\n"
     ]
    }
   ],
   "source": [
    "\n",
    "\n",
    "driver = webdriver.Chrome(executable_path = 'C:\\\\Users\\\\jishn\\\\Downloads\\\\chromedriver.exe')\n",
    "site = 'https://pharmeasy.in/online-medicine-order?isSEM=true&utm_source=google&utm_medium=cpc&utm_campaign=GSB_New_CX_FP&utm_adgroup=OTC_Healthcare&gclid=CjwKCAjwnOipBhBQEiwACyGLugZAgevXP18DQUudU5i_5mNK5YA3CmeP9t-sKan1Dk4gET7DOA8ocRoCNI8QAvD_BwE'\n",
    "driver.get(site)\n",
    "time.sleep(3)\n",
    "# driver.maximize_window()\n",
    "search_tab = driver.find_element_by_xpath('''/html/body/div[1]/main/div/div[2]/section[1]/div[1]/div/div/div[3]/div/div[2]/div/div/input''')\n",
    "search_tab.send_keys('cough syrup')\n",
    "search_tab.send_keys(Keys.ENTER)\n",
    "x=0#scroll  the page to the required level by using while\n",
    "while True:\n",
    "    x+=2\n",
    "    driver.execute_script(\"scrollBy(0,200)\")\n",
    "    time.sleep(1)\n",
    "    if x>200:#break the web page hight  at 400  then scroll will be stop\n",
    "        break\n",
    "\n",
    "\n",
    "soup = bs(driver.page_source, 'html.parser')# getting all the html tags from the page\n",
    "\n",
    "## Creating lists to store the collected data\n",
    "title = []\n",
    "\n",
    "quantity = []\n",
    "\n",
    "manufacturer = []\n",
    "\n",
    "mrp = []\n",
    "\n",
    "price = []\n",
    "\n",
    "stock = []\n",
    "\n",
    "\n",
    "\n",
    "box = soup.find('div', class_ = \"Content_wrapper__0Gx95\")# for the outer box\n",
    "div = box.find_all('div', class_ = 'ProductCard_medicineUnitContentWrapper__8thFe')## for individual boxes\n",
    "\n",
    "\n",
    "header = box.find_all('h1', class_ ='ProductCard_medicineName__8Ydfq')# for getting the product names\n",
    "    \n",
    "for i in header:\n",
    "    head = i.text\n",
    "    title.append(head) \n",
    "    \n",
    "qty = box.find_all('div', class_ = 'ProductCard_measurementUnit__hsZ2o') # for getting the quantity\n",
    "    \n",
    "for i in qty:\n",
    "    qt = i.text\n",
    "    quantity.append(qt)  \n",
    "    \n",
    "\n",
    "my_list2=quantity #for removing the special characters\n",
    "d=[re.sub(r'[^\\d.]+', '', _) for _ in my_list2]\n",
    "\n",
    "    \n",
    "    \n",
    "for i in div:# for getting manufacturer details\n",
    "        try:\n",
    "            span_element = i.find('div', class_ = 'ProductCard_brandName__kmcog')\n",
    "            span_text = span_element.text\n",
    "            manufacturer.append(span_text)\n",
    "        except:\n",
    "            manufacturer.append(\"null\")\n",
    "\n",
    "       \n",
    "        \n",
    "\n",
    "\n",
    "for i in div:# for getting MRP\n",
    "    try:\n",
    "        span_element = i.find('span', class_ = 'ProductCard_striked__jkSiD')\n",
    "        span_text = span_element.text\n",
    "        mrp.append(span_text)\n",
    "    except:\n",
    "        span_element = i.find('div', class_ = 'ProductCard_ourPrice__yDytt')\n",
    "        span_text = span_element.text\n",
    "        mrp.append(span_text)\n",
    "        \n",
    "        \n",
    "\n",
    "my_list=mrp   # for removing special characters\n",
    "c=[re.sub(r'[^\\d.]+', '', _) for _ in my_list]\n",
    "print(len(c))\n",
    "\n",
    "for i in div:# for getting selling price\n",
    "\n",
    "    try:\n",
    "        box1 = i.find('div', class_ ='ProductCard_warningPriceInfo__Dod00')\n",
    "        span_element = box1.find('span', class_ = False)\n",
    "        span_text = span_element.text\n",
    "        price.append(span_text)\n",
    "    except:\n",
    "        span_element = i.find('div', class_ = 'ProductCard_ourPrice__yDytt')\n",
    "        span_text = span_element.text\n",
    "        price.append(span_text)\n",
    "            \n",
    "#remove the spl charaacter in offer prices\n",
    "my_list1=price\n",
    "b=[re.sub(r'[^\\d.]+', '', _) for _ in my_list1]\n",
    "\n",
    "# f = []\n",
    "\n",
    "for j in div: # for the stock details\n",
    "    stok = j.find('div', class_ = 'ProductCard_ctaInformation__ot9e5')\n",
    "    k = stok.text\n",
    "  \n",
    "    if k == 'Add To Cart':\n",
    "        stock.append('In stock')\n",
    "    else:\n",
    "        stock.append('Out of stock')\n",
    "\n",
    "print(len(title)) # to check all datas are collected \n",
    "print(len(manufacturer))\n",
    "print(len(d))\n",
    "print(len(stock))\n",
    "print(len(b) )     \n",
    "print(len(c) )   \n",
    "\n",
    "\n",
    "    \n",
    "\n"
   ]
  },
  {
   "cell_type": "code",
   "execution_count": 9,
   "id": "52007323",
   "metadata": {},
   "outputs": [
    {
     "data": {
      "text/html": [
       "<div>\n",
       "<style scoped>\n",
       "    .dataframe tbody tr th:only-of-type {\n",
       "        vertical-align: middle;\n",
       "    }\n",
       "\n",
       "    .dataframe tbody tr th {\n",
       "        vertical-align: top;\n",
       "    }\n",
       "\n",
       "    .dataframe thead th {\n",
       "        text-align: right;\n",
       "    }\n",
       "</style>\n",
       "<table border=\"1\" class=\"dataframe\">\n",
       "  <thead>\n",
       "    <tr style=\"text-align: right;\">\n",
       "      <th></th>\n",
       "      <th>Product Name</th>\n",
       "      <th>Quantity</th>\n",
       "      <th>Manufacturer</th>\n",
       "      <th>MRP</th>\n",
       "      <th>Selling Price</th>\n",
       "      <th>Stock Details</th>\n",
       "    </tr>\n",
       "  </thead>\n",
       "  <tbody>\n",
       "    <tr>\n",
       "      <th>0</th>\n",
       "      <td>Amrutanjan Extra Power Yellow Pain Balm 50 Ml</td>\n",
       "      <td>50</td>\n",
       "      <td>By AMRUTANJAN EXTRA POWER</td>\n",
       "      <td>140.00</td>\n",
       "      <td>127.40</td>\n",
       "      <td>In stock</td>\n",
       "    </tr>\n",
       "    <tr>\n",
       "      <th>1</th>\n",
       "      <td>Benadryl Cough Formula Bottle Of 150ml Syrup</td>\n",
       "      <td>150</td>\n",
       "      <td>By JOHNSON &amp; JOHNSON PRIVATE LIMITED</td>\n",
       "      <td>141.00</td>\n",
       "      <td>119.85</td>\n",
       "      <td>In stock</td>\n",
       "    </tr>\n",
       "    <tr>\n",
       "      <th>2</th>\n",
       "      <td>Vicks Inhaler Keychain Pack Of 1</td>\n",
       "      <td>1</td>\n",
       "      <td>By VICKS INHALER</td>\n",
       "      <td>67.00</td>\n",
       "      <td>66.33</td>\n",
       "      <td>In stock</td>\n",
       "    </tr>\n",
       "    <tr>\n",
       "      <th>3</th>\n",
       "      <td>Vicks Vaporub 25ml Relief From Cold Cough Head...</td>\n",
       "      <td>25</td>\n",
       "      <td>By VICKS VAPORUB</td>\n",
       "      <td>99.00</td>\n",
       "      <td>96.03</td>\n",
       "      <td>In stock</td>\n",
       "    </tr>\n",
       "    <tr>\n",
       "      <th>4</th>\n",
       "      <td>Amrutanjan Strong Pain Relief Balm Bottle Of 8 Ml</td>\n",
       "      <td>8</td>\n",
       "      <td>By AMRUTANJAN STRONG</td>\n",
       "      <td>42.00</td>\n",
       "      <td>41.58</td>\n",
       "      <td>In stock</td>\n",
       "    </tr>\n",
       "    <tr>\n",
       "      <th>5</th>\n",
       "      <td>Vicks Vaporub 10ml Relief From Cold Cough Head...</td>\n",
       "      <td>10</td>\n",
       "      <td>By VICKS VAPORUB</td>\n",
       "      <td>45.00</td>\n",
       "      <td>44.55</td>\n",
       "      <td>In stock</td>\n",
       "    </tr>\n",
       "    <tr>\n",
       "      <th>6</th>\n",
       "      <td>Vicks Vaporub 5ml Relief From Cold Cough Heada...</td>\n",
       "      <td>5</td>\n",
       "      <td>By VICKS VAPORUB</td>\n",
       "      <td>24.00</td>\n",
       "      <td>21.60</td>\n",
       "      <td>In stock</td>\n",
       "    </tr>\n",
       "    <tr>\n",
       "      <th>7</th>\n",
       "      <td>Amrutanjan Advanced Pain Relief Spray Bottle O...</td>\n",
       "      <td>80</td>\n",
       "      <td>By AMRUTANJAN</td>\n",
       "      <td>210.00</td>\n",
       "      <td>199.50</td>\n",
       "      <td>In stock</td>\n",
       "    </tr>\n",
       "    <tr>\n",
       "      <th>8</th>\n",
       "      <td>Vicks Cough Drops Jar Of 1180+120 Ginger Flavo...</td>\n",
       "      <td>1300</td>\n",
       "      <td>By VICKS</td>\n",
       "      <td>1280.00</td>\n",
       "      <td>1267.20</td>\n",
       "      <td>In stock</td>\n",
       "    </tr>\n",
       "    <tr>\n",
       "      <th>9</th>\n",
       "      <td>Vicks Cough Drops Mixed 1280+120 Free, Bottle ...</td>\n",
       "      <td>1280</td>\n",
       "      <td>By VICKS</td>\n",
       "      <td>1280.00</td>\n",
       "      <td>1216.00</td>\n",
       "      <td>In stock</td>\n",
       "    </tr>\n",
       "  </tbody>\n",
       "</table>\n",
       "</div>"
      ],
      "text/plain": [
       "                                        Product Name Quantity  \\\n",
       "0      Amrutanjan Extra Power Yellow Pain Balm 50 Ml       50   \n",
       "1       Benadryl Cough Formula Bottle Of 150ml Syrup      150   \n",
       "2                   Vicks Inhaler Keychain Pack Of 1        1   \n",
       "3  Vicks Vaporub 25ml Relief From Cold Cough Head...       25   \n",
       "4  Amrutanjan Strong Pain Relief Balm Bottle Of 8 Ml        8   \n",
       "5  Vicks Vaporub 10ml Relief From Cold Cough Head...       10   \n",
       "6  Vicks Vaporub 5ml Relief From Cold Cough Heada...        5   \n",
       "7  Amrutanjan Advanced Pain Relief Spray Bottle O...       80   \n",
       "8  Vicks Cough Drops Jar Of 1180+120 Ginger Flavo...     1300   \n",
       "9  Vicks Cough Drops Mixed 1280+120 Free, Bottle ...     1280   \n",
       "\n",
       "                           Manufacturer      MRP Selling Price Stock Details  \n",
       "0             By AMRUTANJAN EXTRA POWER   140.00        127.40      In stock  \n",
       "1  By JOHNSON & JOHNSON PRIVATE LIMITED   141.00        119.85      In stock  \n",
       "2                      By VICKS INHALER    67.00         66.33      In stock  \n",
       "3                      By VICKS VAPORUB    99.00         96.03      In stock  \n",
       "4                  By AMRUTANJAN STRONG    42.00         41.58      In stock  \n",
       "5                      By VICKS VAPORUB    45.00         44.55      In stock  \n",
       "6                      By VICKS VAPORUB    24.00         21.60      In stock  \n",
       "7                         By AMRUTANJAN   210.00        199.50      In stock  \n",
       "8                              By VICKS  1280.00       1267.20      In stock  \n",
       "9                              By VICKS  1280.00       1216.00      In stock  "
      ]
     },
     "execution_count": 9,
     "metadata": {},
     "output_type": "execute_result"
    }
   ],
   "source": [
    " #converting to dataframe \n",
    "data = pd.DataFrame({'Product Name': title, 'Quantity': d, 'Manufacturer': manufacturer, 'MRP': c, 'Selling Price':b, 'Stock Details': stock  })\n",
    "data.head(10)"
   ]
  },
  {
   "cell_type": "code",
   "execution_count": 5,
   "id": "6ecfb4cc",
   "metadata": {},
   "outputs": [
    {
     "name": "stdout",
     "output_type": "stream",
     "text": [
      "<class 'pandas.core.frame.DataFrame'>\n",
      "RangeIndex: 100 entries, 0 to 99\n",
      "Data columns (total 6 columns):\n",
      " #   Column         Non-Null Count  Dtype \n",
      "---  ------         --------------  ----- \n",
      " 0   Product Name   100 non-null    object\n",
      " 1   Quantity       100 non-null    object\n",
      " 2   Manufacturer   100 non-null    object\n",
      " 3   MRP            100 non-null    object\n",
      " 4   Selling Price  100 non-null    object\n",
      " 5   Stock Details  100 non-null    object\n",
      "dtypes: object(6)\n",
      "memory usage: 4.8+ KB\n"
     ]
    }
   ],
   "source": [
    "data.info()"
   ]
  },
  {
   "cell_type": "code",
   "execution_count": 12,
   "id": "60896724",
   "metadata": {},
   "outputs": [
    {
     "data": {
      "text/html": [
       "<div>\n",
       "<style scoped>\n",
       "    .dataframe tbody tr th:only-of-type {\n",
       "        vertical-align: middle;\n",
       "    }\n",
       "\n",
       "    .dataframe tbody tr th {\n",
       "        vertical-align: top;\n",
       "    }\n",
       "\n",
       "    .dataframe thead th {\n",
       "        text-align: right;\n",
       "    }\n",
       "</style>\n",
       "<table border=\"1\" class=\"dataframe\">\n",
       "  <thead>\n",
       "    <tr style=\"text-align: right;\">\n",
       "      <th></th>\n",
       "      <th>Product Name</th>\n",
       "      <th>Quantity</th>\n",
       "      <th>Manufacturer</th>\n",
       "      <th>MRP</th>\n",
       "      <th>Selling Price</th>\n",
       "      <th>Stock Details</th>\n",
       "    </tr>\n",
       "  </thead>\n",
       "  <tbody>\n",
       "    <tr>\n",
       "      <th>0</th>\n",
       "      <td>Amrutanjan Extra Power Yellow Pain Balm 50 Ml</td>\n",
       "      <td>50</td>\n",
       "      <td>By AMRUTANJAN EXTRA POWER</td>\n",
       "      <td>140.00</td>\n",
       "      <td>127.40</td>\n",
       "      <td>1</td>\n",
       "    </tr>\n",
       "    <tr>\n",
       "      <th>1</th>\n",
       "      <td>Benadryl Cough Formula Bottle Of 150ml Syrup</td>\n",
       "      <td>150</td>\n",
       "      <td>By JOHNSON &amp; JOHNSON PRIVATE LIMITED</td>\n",
       "      <td>141.00</td>\n",
       "      <td>119.85</td>\n",
       "      <td>1</td>\n",
       "    </tr>\n",
       "    <tr>\n",
       "      <th>2</th>\n",
       "      <td>Vicks Inhaler Keychain Pack Of 1</td>\n",
       "      <td>1</td>\n",
       "      <td>By VICKS INHALER</td>\n",
       "      <td>67.00</td>\n",
       "      <td>66.33</td>\n",
       "      <td>1</td>\n",
       "    </tr>\n",
       "    <tr>\n",
       "      <th>3</th>\n",
       "      <td>Vicks Vaporub 25ml Relief From Cold Cough Head...</td>\n",
       "      <td>25</td>\n",
       "      <td>By VICKS VAPORUB</td>\n",
       "      <td>99.00</td>\n",
       "      <td>96.03</td>\n",
       "      <td>1</td>\n",
       "    </tr>\n",
       "    <tr>\n",
       "      <th>4</th>\n",
       "      <td>Amrutanjan Strong Pain Relief Balm Bottle Of 8 Ml</td>\n",
       "      <td>8</td>\n",
       "      <td>By AMRUTANJAN STRONG</td>\n",
       "      <td>42.00</td>\n",
       "      <td>41.58</td>\n",
       "      <td>1</td>\n",
       "    </tr>\n",
       "  </tbody>\n",
       "</table>\n",
       "</div>"
      ],
      "text/plain": [
       "                                        Product Name Quantity  \\\n",
       "0      Amrutanjan Extra Power Yellow Pain Balm 50 Ml       50   \n",
       "1       Benadryl Cough Formula Bottle Of 150ml Syrup      150   \n",
       "2                   Vicks Inhaler Keychain Pack Of 1        1   \n",
       "3  Vicks Vaporub 25ml Relief From Cold Cough Head...       25   \n",
       "4  Amrutanjan Strong Pain Relief Balm Bottle Of 8 Ml        8   \n",
       "\n",
       "                           Manufacturer     MRP Selling Price  Stock Details  \n",
       "0             By AMRUTANJAN EXTRA POWER  140.00        127.40              1  \n",
       "1  By JOHNSON & JOHNSON PRIVATE LIMITED  141.00        119.85              1  \n",
       "2                      By VICKS INHALER   67.00         66.33              1  \n",
       "3                      By VICKS VAPORUB   99.00         96.03              1  \n",
       "4                  By AMRUTANJAN STRONG   42.00         41.58              1  "
      ]
     },
     "execution_count": 12,
     "metadata": {},
     "output_type": "execute_result"
    }
   ],
   "source": [
    "data['Stock Details'] = data['Stock Details'].replace({'In stock' : 1, 'Out of stock':0})\n",
    "data.head()"
   ]
  },
  {
   "cell_type": "code",
   "execution_count": 13,
   "id": "c7f42eec",
   "metadata": {},
   "outputs": [],
   "source": [
    "data_types = {'Product Name': object, 'Quantity': int, 'Manufacturer':object, 'MRP': float, 'Selling Price': float,  'Stock Details': int  }\n",
    "data = data.astype(data_types)"
   ]
  },
  {
   "cell_type": "code",
   "execution_count": 14,
   "id": "46d66edf",
   "metadata": {},
   "outputs": [
    {
     "data": {
      "text/html": [
       "<div>\n",
       "<style scoped>\n",
       "    .dataframe tbody tr th:only-of-type {\n",
       "        vertical-align: middle;\n",
       "    }\n",
       "\n",
       "    .dataframe tbody tr th {\n",
       "        vertical-align: top;\n",
       "    }\n",
       "\n",
       "    .dataframe thead th {\n",
       "        text-align: right;\n",
       "    }\n",
       "</style>\n",
       "<table border=\"1\" class=\"dataframe\">\n",
       "  <thead>\n",
       "    <tr style=\"text-align: right;\">\n",
       "      <th></th>\n",
       "      <th>Product Name</th>\n",
       "      <th>Quantity</th>\n",
       "      <th>Manufacturer</th>\n",
       "      <th>MRP</th>\n",
       "      <th>Selling Price</th>\n",
       "      <th>Stock Details</th>\n",
       "    </tr>\n",
       "  </thead>\n",
       "  <tbody>\n",
       "    <tr>\n",
       "      <th>95</th>\n",
       "      <td>Cough Syrup 4.5ltr</td>\n",
       "      <td>4500</td>\n",
       "      <td>By ZYDUS HEALTHCARE LIMITED</td>\n",
       "      <td>45.0</td>\n",
       "      <td>38.25</td>\n",
       "      <td>0</td>\n",
       "    </tr>\n",
       "    <tr>\n",
       "      <th>96</th>\n",
       "      <td>Siocof Cough Syrup 100ml</td>\n",
       "      <td>100</td>\n",
       "      <td>By CURE QUICK PHARMACEUTICALS</td>\n",
       "      <td>59.0</td>\n",
       "      <td>50.15</td>\n",
       "      <td>0</td>\n",
       "    </tr>\n",
       "    <tr>\n",
       "      <th>97</th>\n",
       "      <td>Salbid D Cough Syrup 100ml</td>\n",
       "      <td>100</td>\n",
       "      <td>By MICRO LABS</td>\n",
       "      <td>48.0</td>\n",
       "      <td>40.80</td>\n",
       "      <td>0</td>\n",
       "    </tr>\n",
       "    <tr>\n",
       "      <th>98</th>\n",
       "      <td>Tulvak Cough Syrup 100ml</td>\n",
       "      <td>100</td>\n",
       "      <td>null</td>\n",
       "      <td>90.0</td>\n",
       "      <td>76.50</td>\n",
       "      <td>0</td>\n",
       "    </tr>\n",
       "    <tr>\n",
       "      <th>99</th>\n",
       "      <td>Siocof Cough Syrup 60ml</td>\n",
       "      <td>60</td>\n",
       "      <td>By CURE QUICK PHARMACEUTICALS</td>\n",
       "      <td>69.0</td>\n",
       "      <td>58.65</td>\n",
       "      <td>0</td>\n",
       "    </tr>\n",
       "  </tbody>\n",
       "</table>\n",
       "</div>"
      ],
      "text/plain": [
       "                  Product Name  Quantity                   Manufacturer   MRP  \\\n",
       "95          Cough Syrup 4.5ltr      4500    By ZYDUS HEALTHCARE LIMITED  45.0   \n",
       "96    Siocof Cough Syrup 100ml       100  By CURE QUICK PHARMACEUTICALS  59.0   \n",
       "97  Salbid D Cough Syrup 100ml       100                  By MICRO LABS  48.0   \n",
       "98    Tulvak Cough Syrup 100ml       100                           null  90.0   \n",
       "99     Siocof Cough Syrup 60ml        60  By CURE QUICK PHARMACEUTICALS  69.0   \n",
       "\n",
       "    Selling Price  Stock Details  \n",
       "95          38.25              0  \n",
       "96          50.15              0  \n",
       "97          40.80              0  \n",
       "98          76.50              0  \n",
       "99          58.65              0  "
      ]
     },
     "execution_count": 14,
     "metadata": {},
     "output_type": "execute_result"
    }
   ],
   "source": [
    "data.tail()"
   ]
  },
  {
   "cell_type": "code",
   "execution_count": 15,
   "id": "a891af3a",
   "metadata": {},
   "outputs": [
    {
     "name": "stdout",
     "output_type": "stream",
     "text": [
      "<class 'pandas.core.frame.DataFrame'>\n",
      "RangeIndex: 100 entries, 0 to 99\n",
      "Data columns (total 6 columns):\n",
      " #   Column         Non-Null Count  Dtype  \n",
      "---  ------         --------------  -----  \n",
      " 0   Product Name   100 non-null    object \n",
      " 1   Quantity       100 non-null    int32  \n",
      " 2   Manufacturer   100 non-null    object \n",
      " 3   MRP            100 non-null    float64\n",
      " 4   Selling Price  100 non-null    float64\n",
      " 5   Stock Details  100 non-null    int32  \n",
      "dtypes: float64(2), int32(2), object(2)\n",
      "memory usage: 4.0+ KB\n"
     ]
    }
   ],
   "source": [
    "data.info()"
   ]
  },
  {
   "cell_type": "code",
   "execution_count": 26,
   "id": "8dbbae75",
   "metadata": {},
   "outputs": [],
   "source": [
    "data['Savings %'] = round(((data['MRP']-data[\"Selling Price\"])/data['MRP'])*100, 1)"
   ]
  },
  {
   "cell_type": "code",
   "execution_count": 27,
   "id": "7e9f0f4c",
   "metadata": {},
   "outputs": [
    {
     "data": {
      "text/html": [
       "<div>\n",
       "<style scoped>\n",
       "    .dataframe tbody tr th:only-of-type {\n",
       "        vertical-align: middle;\n",
       "    }\n",
       "\n",
       "    .dataframe tbody tr th {\n",
       "        vertical-align: top;\n",
       "    }\n",
       "\n",
       "    .dataframe thead th {\n",
       "        text-align: right;\n",
       "    }\n",
       "</style>\n",
       "<table border=\"1\" class=\"dataframe\">\n",
       "  <thead>\n",
       "    <tr style=\"text-align: right;\">\n",
       "      <th></th>\n",
       "      <th>Product Name</th>\n",
       "      <th>Quantity</th>\n",
       "      <th>Manufacturer</th>\n",
       "      <th>MRP</th>\n",
       "      <th>Selling Price</th>\n",
       "      <th>Stock Details</th>\n",
       "      <th>Savings %</th>\n",
       "    </tr>\n",
       "  </thead>\n",
       "  <tbody>\n",
       "    <tr>\n",
       "      <th>0</th>\n",
       "      <td>Amrutanjan Extra Power Yellow Pain Balm 50 Ml</td>\n",
       "      <td>50</td>\n",
       "      <td>By AMRUTANJAN EXTRA POWER</td>\n",
       "      <td>140.0</td>\n",
       "      <td>127.40</td>\n",
       "      <td>1</td>\n",
       "      <td>9.0</td>\n",
       "    </tr>\n",
       "    <tr>\n",
       "      <th>1</th>\n",
       "      <td>Benadryl Cough Formula Bottle Of 150ml Syrup</td>\n",
       "      <td>150</td>\n",
       "      <td>By JOHNSON &amp; JOHNSON PRIVATE LIMITED</td>\n",
       "      <td>141.0</td>\n",
       "      <td>119.85</td>\n",
       "      <td>1</td>\n",
       "      <td>15.0</td>\n",
       "    </tr>\n",
       "    <tr>\n",
       "      <th>2</th>\n",
       "      <td>Vicks Inhaler Keychain Pack Of 1</td>\n",
       "      <td>1</td>\n",
       "      <td>By VICKS INHALER</td>\n",
       "      <td>67.0</td>\n",
       "      <td>66.33</td>\n",
       "      <td>1</td>\n",
       "      <td>1.0</td>\n",
       "    </tr>\n",
       "    <tr>\n",
       "      <th>3</th>\n",
       "      <td>Vicks Vaporub 25ml Relief From Cold Cough Head...</td>\n",
       "      <td>25</td>\n",
       "      <td>By VICKS VAPORUB</td>\n",
       "      <td>99.0</td>\n",
       "      <td>96.03</td>\n",
       "      <td>1</td>\n",
       "      <td>3.0</td>\n",
       "    </tr>\n",
       "    <tr>\n",
       "      <th>4</th>\n",
       "      <td>Amrutanjan Strong Pain Relief Balm Bottle Of 8 Ml</td>\n",
       "      <td>8</td>\n",
       "      <td>By AMRUTANJAN STRONG</td>\n",
       "      <td>42.0</td>\n",
       "      <td>41.58</td>\n",
       "      <td>1</td>\n",
       "      <td>1.0</td>\n",
       "    </tr>\n",
       "  </tbody>\n",
       "</table>\n",
       "</div>"
      ],
      "text/plain": [
       "                                        Product Name  Quantity  \\\n",
       "0      Amrutanjan Extra Power Yellow Pain Balm 50 Ml        50   \n",
       "1       Benadryl Cough Formula Bottle Of 150ml Syrup       150   \n",
       "2                   Vicks Inhaler Keychain Pack Of 1         1   \n",
       "3  Vicks Vaporub 25ml Relief From Cold Cough Head...        25   \n",
       "4  Amrutanjan Strong Pain Relief Balm Bottle Of 8 Ml         8   \n",
       "\n",
       "                           Manufacturer    MRP  Selling Price  Stock Details  \\\n",
       "0             By AMRUTANJAN EXTRA POWER  140.0         127.40              1   \n",
       "1  By JOHNSON & JOHNSON PRIVATE LIMITED  141.0         119.85              1   \n",
       "2                      By VICKS INHALER   67.0          66.33              1   \n",
       "3                      By VICKS VAPORUB   99.0          96.03              1   \n",
       "4                  By AMRUTANJAN STRONG   42.0          41.58              1   \n",
       "\n",
       "   Savings %  \n",
       "0        9.0  \n",
       "1       15.0  \n",
       "2        1.0  \n",
       "3        3.0  \n",
       "4        1.0  "
      ]
     },
     "execution_count": 27,
     "metadata": {},
     "output_type": "execute_result"
    }
   ],
   "source": [
    "data.head()"
   ]
  },
  {
   "cell_type": "code",
   "execution_count": 28,
   "id": "a2b9b819",
   "metadata": {},
   "outputs": [],
   "source": [
    "data.to_csv(r'C:\\Users\\jishn\\OneDrive\\Desktop\\syrup_data.csv')"
   ]
  },
  {
   "cell_type": "markdown",
   "id": "732ee104",
   "metadata": {},
   "source": [
    "## EDA"
   ]
  },
  {
   "cell_type": "code",
   "execution_count": 19,
   "id": "6ab15e6c",
   "metadata": {},
   "outputs": [
    {
     "data": {
      "text/plain": [
       "<Axes: xlabel='Stock Details', ylabel='count'>"
      ]
     },
     "execution_count": 19,
     "metadata": {},
     "output_type": "execute_result"
    },
    {
     "data": {
      "image/png": "[encoded data removed]",
      "text/plain": [
       "<Figure size 640x480 with 1 Axes>"
      ]
     },
     "metadata": {},
     "output_type": "display_data"
    }
   ],
   "source": [
    "import seaborn as sns\n",
    "df= data\n",
    "sns.countplot(x = 'Stock Details', data= df)"
   ]
  },
  {
   "cell_type": "code",
   "execution_count": 20,
   "id": "c948fdfe",
   "metadata": {},
   "outputs": [
    {
     "data": {
      "text/plain": [
       "<Axes: xlabel='Quantity', ylabel='MRP'>"
      ]
     },
     "execution_count": 20,
     "metadata": {},
     "output_type": "execute_result"
    },
    {
     "data": {
      "image/png": "[encoded data removed]",
      "text/plain": [
       "<Figure size 640x480 with 1 Axes>"
      ]
     },
     "metadata": {},
     "output_type": "display_data"
    }
   ],
   "source": [
    "sns.scatterplot(x=\"Quantity\", y='MRP', hue='Stock Details' ,data= data)"
   ]
  },
  {
   "cell_type": "code",
   "execution_count": 21,
   "id": "54d6a545",
   "metadata": {},
   "outputs": [
    {
     "data": {
      "text/plain": [
       "<Axes: xlabel='Selling Price', ylabel='Density'>"
      ]
     },
     "execution_count": 21,
     "metadata": {},
     "output_type": "execute_result"
    },
    {
     "data": {
      "image/png": "[encoded data removed]",
      "text/plain": [
       "<Figure size 640x480 with 1 Axes>"
      ]
     },
     "metadata": {},
     "output_type": "display_data"
    }
   ],
   "source": [
    "sns.distplot(data.MRP,label = 'Mrp',  kde = True )\n",
    "sns.distplot(data['Selling Price'],label = 'SP',  kde = True )\n",
    "\n",
    "\n"
   ]
  },
  {
   "cell_type": "code",
   "execution_count": 22,
   "id": "df736c98",
   "metadata": {},
   "outputs": [
    {
     "data": {
      "text/plain": [
       "<Axes: xlabel='Stock Details', ylabel='Savings %'>"
      ]
     },
     "execution_count": 22,
     "metadata": {},
     "output_type": "execute_result"
    },
    {
     "data": {
      "image/png": "[encoded data removed]",
      "text/plain": [
       "<Figure size 640x480 with 1 Axes>"
      ]
     },
     "metadata": {},
     "output_type": "display_data"
    }
   ],
   "source": [
    "sns.boxplot(x='Stock Details', y='Savings %', data= data, palette= 'viridis')"
   ]
  },
  {
   "cell_type": "code",
   "execution_count": 23,
   "id": "72d27760",
   "metadata": {},
   "outputs": [
    {
     "data": {
      "text/plain": [
       "<Axes: xlabel='Stock Details', ylabel='MRP'>"
      ]
     },
     "execution_count": 23,
     "metadata": {},
     "output_type": "execute_result"
    },
    {
     "data": {
      "image/png": "[encoded data removed]",
      "text/plain": [
       "<Figure size 640x480 with 1 Axes>"
      ]
     },
     "metadata": {},
     "output_type": "display_data"
    }
   ],
   "source": [
    "sns.boxplot(x='Stock Details', y='MRP', data= data, palette= 'viridis')"
   ]
  },
  {
   "cell_type": "code",
   "execution_count": 24,
   "id": "39699d3d",
   "metadata": {},
   "outputs": [
    {
     "data": {
      "text/plain": [
       "<Axes: xlabel='Stock Details', ylabel='Selling Price'>"
      ]
     },
     "execution_count": 24,
     "metadata": {},
     "output_type": "execute_result"
    },
    {
     "data": {
      "image/png": "[encoded data removed]",
      "text/plain": [
       "<Figure size 640x480 with 1 Axes>"
      ]
     },
     "metadata": {},
     "output_type": "display_data"
    }
   ],
   "source": [
    "sns.boxplot(x='Stock Details', y='Selling Price', data= data, palette= 'viridis')"
   ]
  },
  {
   "cell_type": "code",
   "execution_count": null,
   "id": "c4dc68e5",
   "metadata": {},
   "outputs": [],
   "source": []
  }
 ],
 "metadata": {
  "kernelspec": {
   "display_name": "Python 3 (ipykernel)",
   "language": "python",
   "name": "python3"
  },
  "language_info": {
   "codemirror_mode": {
    "name": "ipython",
    "version": 3
   },
   "file_extension": ".py",
   "mimetype": "text/x-python",
   "name": "python",
   "nbconvert_exporter": "python",
   "pygments_lexer": "ipython3",
   "version": "3.10.9"
  }
 },
 "nbformat": 4,
 "nbformat_minor": 5
}
